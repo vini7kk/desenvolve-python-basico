{
  "cells": [
    {
      "cell_type": "markdown",
      "id": "cbdff5a5",
      "metadata": {
        "id": "cbdff5a5"
      },
      "source": [
        "# Módulo 5 - Funções\n",
        "\n",
        "## Aulas 5.2 - Funções Customizadas e 5.4 Funções ```lambda```"
      ]
    },
    {
      "cell_type": "markdown",
      "id": "28a3fee2",
      "metadata": {
        "id": "28a3fee2"
      },
      "source": [
        "### Q1.\n",
        "\n",
        "- Sabendo que o código a seguir calcula o fatorial de n, escreva uma função chamada ```fatorial()``` que recebe um inteiro ```n``` como parâmetro e retorna o resultado do fatorial de ```n```.\n",
        "- No programa principal, peça ao usuário o valor de ```n```, chame a sua função e imprima o retorno.\n",
        "\n",
        "```python\n",
        "fat = 1\n",
        "for i in range(1, n+1):\n",
        "    fat *= i\n",
        "```"
      ]
    },
    {
      "cell_type": "code",
      "execution_count": 1,
      "id": "d126b3a5",
      "metadata": {
        "id": "d126b3a5"
      },
      "outputs": [],
      "source": [
        "def Factorial(n):\n",
        "    fat = 1\n",
        "    for i in range(1,n+1):\n",
        "        fat *= i\n",
        "    return fat"
      ]
    },
    {
      "cell_type": "code",
      "execution_count": 3,
      "id": "927d5aa7",
      "metadata": {
        "id": "927d5aa7",
        "outputId": "54289f0b-c227-4791-9c34-333f7ee8aa3f"
      },
      "outputs": [
        {
          "name": "stdout",
          "output_type": "stream",
          "text": [
            "6\n"
          ]
        }
      ],
      "source": [
        "\n",
        "num = int(input(\"digite um valor, que retornarei com o fatorial do mesmo: \"))\n",
        "resultado = Factorial (num)\n",
        "print(resultado)"
      ]
    },
    {
      "cell_type": "markdown",
      "id": "c0a1f599",
      "metadata": {
        "id": "c0a1f599"
      },
      "source": [
        "### Q2.\n",
        "\n",
        "- Escreva uma função em Python chamada ```soma_quadrados``` que recebe dois números como parâmetros e retorna a soma dos seus quadrados.\n",
        "- No programa principal solicite ao usuário que insira dois números e utilize a função para exibir a soma dos quadrados."
      ]
    },
    {
      "cell_type": "code",
      "execution_count": null,
      "id": "6dbddaad",
      "metadata": {
        "id": "6dbddaad"
      },
      "outputs": [],
      "source": [
        "## Crie aqui a função soma_quadrados()\n",
        "def soma_quadrados (x,y):\n",
        "    resultado = ((x ** 2) + (y ** 2))\n",
        "    return resultado"
      ]
    },
    {
      "cell_type": "code",
      "execution_count": null,
      "id": "9175a7da",
      "metadata": {
        "id": "9175a7da",
        "outputId": "23371d96-ac17-4f92-dcb6-10ad7a3645d8"
      },
      "outputs": [
        {
          "name": "stdout",
          "output_type": "stream",
          "text": [
            "18\n"
          ]
        }
      ],
      "source": [
        "## Escreva aqui o programa principal e execute a célula\n",
        "x = int(input(\"defina o valor de X: \"))\n",
        "y = int(input(\"defina o valor de Y: \"))\n",
        "resultado = soma_quadrados(x,y)\n",
        "print(resultado)"
      ]
    },
    {
      "cell_type": "markdown",
      "id": "6ba34ce0",
      "metadata": {
        "id": "6ba34ce0"
      },
      "source": [
        "### Q3.\n",
        "\n",
        "- Crie uma função em Python chamada ```soma_digitos``` que recebe um número inteiro como parâmetro e retorna a soma dos seus dígitos. Por exemplo, para o número 123, a função deve retornar 6, $(1 + 2 + 3)$.\n",
        "    - O desafio aqui é separar os dígitos de um número inteiro usando operações aritméticas <br> <br>\n",
        "\n",
        "- No programa principal solicite ao usuário que insira um número e utilize a função ```soma_digitos``` para calcular e exibir a soma dos seus dígitos."
      ]
    },
    {
      "cell_type": "code",
      "execution_count": null,
      "id": "34838ebf",
      "metadata": {
        "id": "34838ebf"
      },
      "outputs": [],
      "source": [
        "## Crie aqui a função soma_digitos()\n",
        "\n",
        "def soma_digitos(x):\n",
        "    valor1 , valor2 , valor3 = 0, 0, 0\n",
        "\n",
        "    if x >= 100: # centenas\n",
        "        valor1 = x // 100\n",
        "    if x % 100 >= 10: # dezenas\n",
        "        valor2 = (x % 100) // 10\n",
        "    if x % 10 >= 0:# unidades\n",
        "        valor3 = x % 10\n",
        "    soma = valor1 + valor2 + valor3\n",
        "    return soma"
      ]
    },
    {
      "cell_type": "code",
      "execution_count": null,
      "id": "27c35b21",
      "metadata": {
        "id": "27c35b21",
        "outputId": "dd144c56-eda1-41d5-e50d-d0f6ed225ec3"
      },
      "outputs": [
        {
          "name": "stdout",
          "output_type": "stream",
          "text": [
            "a soma entre os digitos de 999 é de : 27\n"
          ]
        }
      ],
      "source": [
        "## Escreva aqui o programa principal e execute a célula\n",
        "num =int(input(\"digite um valor e irei somar suas casas de centenas,dezenas e unidade. :\"))\n",
        "soma = soma_digitos(num)\n",
        "print(f\"a soma entre os digitos de {num} é de : {soma}\")"
      ]
    },
    {
      "cell_type": "markdown",
      "id": "c318b159",
      "metadata": {
        "id": "c318b159"
      },
      "source": [
        "### Q4.\n",
        "\n",
        "- Crie a função ```inverteValor()``` que recebe um inteiro de qualquer tamanho e retorna esse valor invertido usando apenas operações aritméticas\n",
        "- Crie a função ```verificaInverso()``` que recebe o valor original e o valor invertido e retorna verdadeiro se ambos forem igualmente par ou igualmente ímpar. Retorne falso caso contrário.\n",
        "- No programa principal, peça um valor do usuário e imprima o retorno de ambas as funções.\n"
      ]
    },
    {
      "cell_type": "code",
      "execution_count": 12,
      "id": "e4e47d1d",
      "metadata": {
        "id": "e4e47d1d"
      },
      "outputs": [],
      "source": [
        "## Crie aqui as funções inverteValor() e verificaInverso()\n",
        "def inverteValor(x):\n",
        "    return x * -1\n",
        "\n",
        "# Função que verifica se ambos numeros sâo pares ou impares simuntaneamente\n",
        "def verificaInverso(x, num):\n",
        "    if (x % 2) == (num % 2):\n",
        "        return \"Verdadeiro\"\n",
        "    else:\n",
        "        return \"Falso\"\n"
      ]
    },
    {
      "cell_type": "code",
      "execution_count": 17,
      "id": "a9514e56",
      "metadata": {
        "id": "a9514e56",
        "outputId": "fa891d8b-10ce-41a4-96ff-beb68e06d026"
      },
      "outputs": [
        {
          "name": "stdout",
          "output_type": "stream",
          "text": [
            "Valor inserido: 123\n",
            "Valor invertido: -123\n",
            "Ambos números tem a mesma paridade? Verdadeiro\n"
          ]
        }
      ],
      "source": [
        "## Escreva aqui o programa principal e execute a célula\n",
        "num = int(input(\"digite uma valor positivo ou negativo, que irei invertelo, e dizer se é par ou impar: \"))\n",
        "invertido = inverteValor(num)\n",
        "verificação = verificaInverso(invertido,num)\n",
        "print(f\"Valor inserido: {num}\")\n",
        "print(f\"Valor invertido: {invertido}\")\n",
        "print(f\"Ambos números tem a mesma paridade? {verificação}\")\n"
      ]
    },
    {
      "cell_type": "markdown",
      "id": "329be966",
      "metadata": {
        "id": "329be966"
      },
      "source": [
        "### Q5.\n",
        "\n",
        "Você está desenvolvendo um programa para auxiliar em cálculos de geometria básica. Crie as seguintes funções:\n",
        "- A função ```calcula_perimetro_triangulo()``` que recebe três inteiros correspondentes aos lados de um triângulo e retorna o perímetro do triângulo, ou seja, a soma dos seus lados.\n",
        "- A função ```calcula_perimetro_circulo()``` que recebe um inteiro referente ao raio do círculo e retorna o perímetro do círculo, dado por $2 \\pi r$. Use a constante $\\pi$ da biblioteca ```math```.\n",
        "- A função ```calcula_perimetro_retangulo()``` que possui um parâmetro obrigatório ```lado1``` e um opcional ```lado2```, ambos inteiros. Se o valor opcional não for fornecido, significa que se trata de um quadrado. Sua função deve calcular e retornar o perímetro do retângulo, ou seja, a soma de seus lados.\n",
        "    - Para o quadrado, é dado por $4 \\times lado1$\n",
        "    - Para o retângulo é dado por $2 \\times lado1 + 2 \\times lado2$\n",
        "    \n",
        "- No programa principal apresente um menu com as opções disponíveis do seu sistema e uma quarta opção ```Sair```. Solicite ao usuário a opção desejada, solicite as entradas correspondentes à opção escolhida, invoque a respective função e apresente o seu retorno. Seu programa deve retornar ao menu até que o usuário escolha a opção ```Sair```\n",
        "\n",
        "Exemplo de interação:\n",
        "```\n",
        "1 - Calcular perímetro triângulo\n",
        "2 - Calcular perímetro círculo\n",
        "3 - Calcular perímetro retângulo\n",
        "4 - Sair\n",
        "\n",
        "Opção: 1\n",
        "Digite os três lados do triângulo:\n",
        "3\n",
        "4\n",
        "5\n",
        "O perímetro é: 12\n",
        "\n",
        "1 - Calcular perímetro triângulo\n",
        "2 - Calcular perímetro círculo\n",
        "3 - Calcular perímetro retângulo\n",
        "4 - Sair\n",
        "\n",
        "Opção: 3\n",
        "Informe os dois lados do retângulo. Se for um quadrado, digite 0 para o segundo valor:\n",
        "5\n",
        "0\n",
        "O perímetro é: 20\n",
        "\n",
        "1 - Calcular perímetro triângulo\n",
        "2 - Calcular perímetro círculo\n",
        "3 - Calcular perímetro retângulo\n",
        "4 - Sair\n",
        "\n",
        "Opção: 4\n",
        "```"
      ]
    },
    {
      "cell_type": "code",
      "execution_count": null,
      "id": "0793d328",
      "metadata": {
        "id": "0793d328"
      },
      "outputs": [],
      "source": [
        "## Crie aqui as funções\n",
        "import math\n",
        "a, b , c, p = 0, 0, 0, 0\n",
        "def calcula_perimetro_triangulo(a, b ,c):\n",
        "  soma = a + b + c\n",
        "  return soma\n",
        "\n",
        "def calcula_perimetro_circulo(r):\n",
        "  p = 2 * math.pi * r\n",
        "  return p\n",
        "\n",
        "def calcula_perimetro_retangulo(l , h):\n",
        "  p_ret = (l * 2) + (h * 2)\n",
        "  return p_ret\n",
        "\n",
        "\n"
      ]
    },
    {
      "cell_type": "code",
      "execution_count": null,
      "id": "36269c71",
      "metadata": {
        "colab": {
          "base_uri": "https://localhost:8080/"
        },
        "id": "36269c71",
        "outputId": "7a3456bd-6020-4cbc-eb45-85749a0fb047"
      },
      "outputs": [
        {
          "name": "stdout",
          "output_type": "stream",
          "text": [
            "seja bem vindo a calculadora de perimetro \n",
            "digite 1 para calcular perimetro de triangulo\n",
            "digite 2 para calcular perimetro de um circulo\n",
            "digite 3 para calcular perimetro de um retangulo\n",
            "digite 4 para sair\n",
            "1\n",
            "vamos calcular o perimetro de um triangulo: \n",
            "digite valores de a de um triangulo: 2\n",
            "digite valores de b de um triangulo: 2\n",
            "digite valores de c de um triangulo: 2\n",
            "o perimetro deste triangulo é: 6\n",
            "seja bem vindo a calculadora de perimetro \n",
            "digite 1 para calcular perimetro de triangulo\n",
            "digite 2 para calcular perimetro de um circulo\n",
            "digite 3 para calcular perimetro de um retangulo\n",
            "digite 4 para sair\n",
            "2\n",
            "agora iremos calcular o perimetro de um circulo, para isso, me informe o valor do raio: 2\n",
            "O perímetro do círculo de raio 2.0 é: 12.57\n",
            "seja bem vindo a calculadora de perimetro \n",
            "digite 1 para calcular perimetro de triangulo\n",
            "digite 2 para calcular perimetro de um circulo\n",
            "digite 3 para calcular perimetro de um retangulo\n",
            "digite 4 para sair\n",
            "3\n",
            "digite valores da base de um retangulo: 2\n",
            "digite valores da altura de um retangulo: 2\n",
            "8\n",
            "seja bem vindo a calculadora de perimetro \n",
            "digite 1 para calcular perimetro de triangulo\n",
            "digite 2 para calcular perimetro de um circulo\n",
            "digite 3 para calcular perimetro de um retangulo\n",
            "digite 4 para sair\n",
            "4\n",
            "até a proxima!\n"
          ]
        }
      ],
      "source": [
        "while True:\n",
        "  print(\"seja bem vindo a calculadora de perimetro \")\n",
        "  print(\"digite 1 para calcular perimetro de triangulo\")\n",
        "  print(\"digite 2 para calcular perimetro de um circulo\")\n",
        "  print(\"digite 3 para calcular perimetro de um retangulo\")\n",
        "  print(\"digite 4 para sair\")\n",
        "\n",
        "  opção = int(input())\n",
        "  if opção == 1:\n",
        "    print(\"vamos calcular o perimetro de um triangulo: \")\n",
        "    valor_de_a = int(input(\"digite valores de a de um triangulo: \"))\n",
        "    valor_de_b = int(input(\"digite valores de b de um triangulo: \"))\n",
        "    valor_de_c = int(input(\"digite valores de c de um triangulo: \"))\n",
        "    soma = calcula_perimetro_triangulo(valor_de_a, valor_de_b, valor_de_c)\n",
        "    print(f\"o perimetro deste triangulo é: {soma}\")\n",
        "\n",
        "  elif opção == 2:\n",
        "    raio = float(input(\"agora iremos calcular o perimetro de um circulo, para isso, me informe o valor do raio: \"))\n",
        "    perimetro = calcula_perimetro_circulo(raio)\n",
        "    print(f\"O perímetro do círculo de raio {raio} é: {perimetro:.2f}\")\n",
        "\n",
        "  elif opção == 3:\n",
        "    valor_l = int(input(\"digite valores da base de um retangulo: \"))\n",
        "    valor_h = int(input(\"digite valores da altura de um retangulo: \"))\n",
        "    p_ret = calcula_perimetro_retangulo(valor_l, valor_h)\n",
        "    print(p_ret)\n",
        "\n",
        "  else:\n",
        "    print(\"até a proxima!\")\n",
        "    break"
      ]
    },
    {
      "cell_type": "markdown",
      "id": "3016bcc7",
      "metadata": {
        "id": "3016bcc7"
      },
      "source": [
        "## Funções ```lambda```"
      ]
    },
    {
      "cell_type": "markdown",
      "id": "f9cdb8dd",
      "metadata": {
        "id": "f9cdb8dd"
      },
      "source": [
        "### Q6.\n",
        "\n",
        "Crie uma função lambda para verificar se um número é par ou ímpar. Em seguida, solicite ao usuário um número indefinidos de valores (até que o usuário digite 0). Para cada valor de entrada, informe se é par ou ímpar.\n",
        "\n",
        "Exemplo de interação:\n",
        "```\n",
        "Digite os valores que deseja verificar a paridade (digite 0 para finalizar a entrada de dados):\n",
        "3\n",
        "ímpar\n",
        "8\n",
        "par\n",
        "12\n",
        "par\n",
        "5\n",
        "ímpar\n",
        "7ímpar\n",
        "```"
      ]
    },
    {
      "cell_type": "code",
      "execution_count": null,
      "id": "e3c31a78",
      "metadata": {
        "colab": {
          "base_uri": "https://localhost:8080/"
        },
        "id": "e3c31a78",
        "outputId": "64212cc7-bbaa-467f-d620-2a8747c6b34f"
      },
      "outputs": [
        {
          "name": "stdout",
          "output_type": "stream",
          "text": [
            "Digite um valor e irei verificar se é par ou ímpar, ou digite 0 para sair: 2\n",
            "par\n",
            "Digite um valor e irei verificar se é par ou ímpar, ou digite 0 para sair: 1\n",
            "ímpar\n",
            "Digite um valor e irei verificar se é par ou ímpar, ou digite 0 para sair: 5\n",
            "ímpar\n",
            "Digite um valor e irei verificar se é par ou ímpar, ou digite 0 para sair: 123\n",
            "ímpar\n",
            "Digite um valor e irei verificar se é par ou ímpar, ou digite 0 para sair: 0\n",
            "Fim\n"
          ]
        }
      ],
      "source": [
        "parOuImpar = lambda entrada: \"ímpar\" if entrada % 2 == 1 else \"par\"\n",
        "while True:\n",
        "  entrada = int(input(\"Digite um valor e irei verificar se é par ou ímpar, ou digite 0 para sair: \"))\n",
        "  if entrada >0:\n",
        "    resultado = parOuImpar(entrada)\n",
        "    print(resultado)\n",
        "  else:\n",
        "    print(\"Fim\")\n",
        "    break\n",
        "\n"
      ]
    },
    {
      "cell_type": "markdown",
      "id": "5a87474d",
      "metadata": {
        "id": "5a87474d"
      },
      "source": [
        "### Q7.\n",
        "\n",
        "Escreva um programa que pergunte ao usuário qual operação ele deseja: maior ou menor.\n",
        "Em seguida leia uma quantidade indefinida de valores do usuário, até que o usuário digite o valor zero.\n",
        "Apresente ao final o maior ou menor dos valores digitados de acordo com a escolha do usuário.\n",
        "\n",
        "**Sua solução deve incluir pelo menos uma função ```lambda```**\n",
        "\n",
        "Exemplo de interação:\n",
        "```\n",
        "Opções: (1) maior ou (2) menor?\n",
        "Opção: 1\n",
        "\n",
        "Digite os valores de entrada. Digite 0 para finalizar a entrada de valores.\n",
        "4\n",
        "12\n",
        "15\n",
        "1\n",
        "0\n",
        "\n",
        "O maior valor é: 15\n",
        "```"
      ]
    },
    {
      "cell_type": "code",
      "execution_count": 59,
      "id": "ee3f68ca",
      "metadata": {
        "colab": {
          "base_uri": "https://localhost:8080/"
        },
        "id": "ee3f68ca",
        "outputId": "6c2765d2-2951-4f3b-c558-5b36afe6828c"
      },
      "outputs": [
        {
          "name": "stdout",
          "output_type": "stream",
          "text": [
            "Iremos fazer um jogo no qual você digita vários números, e eu direi o maior ou o menor entre eles.\n",
            "Deseja procurar o (1) maior ou (2) menor valor? 1\n",
            "Digite um valor (ou 0 para sair): 2\n",
            "O maior valor até agora é: 2\n",
            "Digite um valor (ou 0 para sair): 3\n",
            "O maior valor até agora é: 3\n",
            "Digite um valor (ou 0 para sair): 4\n",
            "O maior valor até agora é: 4\n",
            "Digite um valor (ou 0 para sair): 5\n",
            "O maior valor até agora é: 5\n",
            "Digite um valor (ou 0 para sair): 7\n",
            "O maior valor até agora é: 7\n",
            "Digite um valor (ou 0 para sair): 0\n",
            "Fim\n"
          ]
        }
      ],
      "source": [
        "menor = None\n",
        "maior = None\n",
        "\n",
        "# Funções lambda para comparar\n",
        "verifica_maior = lambda atual, novo: novo if (atual is None or novo > atual) else atual\n",
        "verifica_menor = lambda atual, novo: novo if (atual is None or novo < atual) else atual\n",
        "\n",
        "print(\"Iremos fazer um jogo no qual você digita vários números, e eu direi o maior ou o menor entre eles.\")\n",
        "\n",
        "while True:\n",
        "    escolha = int(input(\"Deseja procurar o (1) maior ou (2) menor valor? \"))\n",
        "    if escolha in [1, 2]:\n",
        "        break\n",
        "    else:\n",
        "        print(\"Opção inválida. Digite 1 ou 2.\")\n",
        "\n",
        "while True:\n",
        "    valor = input(\"Digite um valor (ou 0 para sair): \")\n",
        "\n",
        "    if valor == \"0\":\n",
        "        print(\"Fim\")\n",
        "        break\n",
        "\n",
        "    try:\n",
        "        valor = int(valor)\n",
        "\n",
        "        if escolha == 1:\n",
        "            maior = verifica_maior(maior, valor)\n",
        "            print(f\"O maior valor até agora é: {maior}\")\n",
        "        else:\n",
        "            menor = verifica_menor(menor, valor)\n",
        "            print(f\"O menor valor até agora é: {menor}\")\n",
        "\n",
        "    except ValueError:\n",
        "        print(\"Por favor, digite um número inteiro válido.\")\n",
        "\n"
      ]
    }
  ],
  "metadata": {
    "colab": {
      "provenance": []
    },
    "kernelspec": {
      "display_name": "Python 3",
      "language": "python",
      "name": "python3"
    },
    "language_info": {
      "codemirror_mode": {
        "name": "ipython",
        "version": 3
      },
      "file_extension": ".py",
      "mimetype": "text/x-python",
      "name": "python",
      "nbconvert_exporter": "python",
      "pygments_lexer": "ipython3",
      "version": "3.13.7"
    }
  },
  "nbformat": 4,
  "nbformat_minor": 5
}
