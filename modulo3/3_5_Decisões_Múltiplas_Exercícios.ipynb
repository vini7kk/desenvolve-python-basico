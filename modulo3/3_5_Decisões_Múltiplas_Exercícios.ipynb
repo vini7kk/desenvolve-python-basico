{
  "cells": [
    {
      "cell_type": "markdown",
      "id": "559687a1",
      "metadata": {
        "id": "559687a1"
      },
      "source": [
        "# Módulo 3 - Condicionais\n",
        "\n",
        "## 3.5 - Decisões Múltiplas"
      ]
    },
    {
      "cell_type": "markdown",
      "id": "42f823b3",
      "metadata": {
        "id": "42f823b3"
      },
      "source": [
        "### Q1.\n",
        "\n",
        "Vamos fazer uma calculadora! Escreva um programa que solicita 3 entradas: o primeiro operando (float), o operador (caracter) e o segundo operando (float). Seu programa deve imprimir o resultado da operação solicitada, entre soma (+), subtração (-), divisão (/), multiplicação (\\*) ou potência (\\*\\*). Seu programa também deve imprimir uma mensagem de erro se a operação solicitada não estiver dentre as opções disponíveis.\n",
        "\n",
        "Seguem alguns exemplos de interação com seu código no terminal.\n",
        "\n",
        "\n",
        "```\n",
        "Digite o primeiro operando: 5.2\n",
        "Digite o operador (+, -, /, *, **): *\n",
        "Digite o segundo operando` 3\n",
        "Resultado: 5.2 * 3.0 = 15.6\n",
        "```\n",
        "\n",
        "```\n",
        "Digite o primeiro operando: 8\n",
        "Digite o operador (+, -, /, *, **): **\n",
        "Digite o segundo operando: 2\n",
        "Resultado: 8.0 * 2.0 = 64.0\n",
        "```\n",
        "\n",
        "```\n",
        "Digite o primeiro operando: 7\n",
        "Digite o operador (+, -, /, *, **): %\n",
        "Digite o segundo operando: 3.4\n",
        "Erro! Operação inválida.\n",
        "```\n",
        "\n",
        "```\n",
        "Digite o primeiro operando: 10\n",
        "Digite o operador (+, -, /, *, **): /\n",
        "Digite o segundo operando: 2.5\n",
        "Resultado: 10.0 / 2.5 = 4.0\n",
        "```\n",
        "\n"
      ]
    },
    {
      "cell_type": "code",
      "execution_count": 1,
      "id": "c5b8cd4d",
      "metadata": {
        "colab": {
          "base_uri": "https://localhost:8080/"
        },
        "id": "c5b8cd4d",
        "outputId": "2197bbf6-8a50-4f8f-bb2f-34823b905124"
      },
      "outputs": [
        {
          "name": "stdout",
          "output_type": "stream",
          "text": [
            "Digite o primeiro número: 10\n",
            "Digite o operador: *\n",
            "Digite o segundo número: 2\n",
            "Resultado: 20.0\n"
          ]
        }
      ],
      "source": [
        "## entrada de dados\n",
        "n1 = float(input(\"Digite o primeiro número: \"))\n",
        "op = str(input(\"Digite o operador: \"))\n",
        "n2 = float(input(\"Digite o segundo número: \"))\n",
        "#processamento\n",
        "if op == \"+\":\n",
        "    resultado = n1 + n2\n",
        "elif op == \"-\":\n",
        "    resultado = n1 - n2\n",
        "elif op == \"*\":\n",
        "    resultado = n1 * n2\n",
        "elif op == \"/\":\n",
        "    if n2 != 0:  # Verificação para evitar divisão por zero\n",
        "        resultado = n1 / n2\n",
        "    else:\n",
        "        resultado = \"Erro: Divisão por zero!\"\n",
        "else:\n",
        "    resultado = \"Operador inválido!\"\n",
        "\n",
        "print(\"Resultado:\", resultado)"
      ]
    },
    {
      "cell_type": "markdown",
      "id": "d135df39",
      "metadata": {
        "id": "d135df39"
      },
      "source": [
        "### Q2.\n",
        "\n",
        "Escreva um programa que leia os comprimentos dos 3 lados de um triângulo e diga se o triângulo é equilátero, isóceles ou escaleno. Regras:\n",
        "- Isóceles: Quaisquer dois lados com o mesmo comprimento\n",
        "- Equilátero: Os três lados tem o mesmo comprimento\n",
        "- Escaleno: Três lados de comprimento diferente\n",
        "\n",
        "Note que a ordem das condições importa! Seguem alguns exemplos de interação com seu código no terminal.\n",
        "\n",
        "```\n",
        "Digite o comprimento do lado 1: 4\n",
        "Digite o comprimento do lado 2: 4\n",
        "Digite o comprimento do lado 3: 6\n",
        "Triângulo: Isóceles\n",
        "```\n",
        "\n",
        "```\n",
        "Digite o comprimento do lado 1: 5\n",
        "Digite o comprimento do lado 2: 5\n",
        "Digite o comprimento do lado 3: 5\n",
        "Triângulo: Equilátero\n",
        "```\n",
        "\n",
        "```\n",
        "Digite o comprimento do lado 1: 7\n",
        "Digite o comprimento do lado 2: 4\n",
        "Digite o comprimento do lado 3: 9\n",
        "Triângulo: Escaleno\n",
        "```\n",
        "\n"
      ]
    },
    {
      "cell_type": "code",
      "execution_count": 3,
      "id": "cfcf9a80",
      "metadata": {
        "colab": {
          "base_uri": "https://localhost:8080/"
        },
        "id": "cfcf9a80",
        "outputId": "191022bc-f029-49d9-ec4e-345a4d673645"
      },
      "outputs": [
        {
          "name": "stdout",
          "output_type": "stream",
          "text": [
            "As medidas informadas são de um triângulo: Escaleno\n"
          ]
        }
      ],
      "source": [
        "# entrada de dados\n",
        "l1 = float(input(\"Qual o tamanho do lado 1 do triângulo? \"))\n",
        "l2 = float(input(\"Qual o tamanho do lado 2 do triângulo? \"))\n",
        "l3 = float(input(\"Qual o tamanho do lado 3 do triângulo? \"))\n",
        "\n",
        "# validação do triângulo\n",
        "if l1 + l2 > l3 and l1 + l3 > l2 and l2 + l3 > l1:\n",
        "\n",
        "    if l1 == l2 == l3:\n",
        "        triangulo = \"Equilátero\"\n",
        "    elif l1 != l2 and l2 != l3 and l1 != l3:\n",
        "        triangulo = \"Escaleno\"\n",
        "    else:\n",
        "        triangulo = \"Isósceles\"\n",
        "\n",
        "    # saída de dados\n",
        "    print(f\"As medidas informadas são de um triângulo: {triangulo}\")\n",
        "\n",
        "else:\n",
        "    print(\"As medidas informadas NÃO formam um triângulo válido.\")"
      ]
    },
    {
      "cell_type": "markdown",
      "id": "ed3405fb",
      "metadata": {
        "id": "ed3405fb"
      },
      "source": [
        "### Q3.\n",
        "\n",
        "Você está desenvolvendo um sistema de avaliação de desempenho para um jogo. Escreva um programa em Python que avalia a pontuação do jogador em uma missão e atribui uma classificação com base nas seguintes condições:\n",
        "\n",
        "- Se a pontuação for menor que 70, atribua a classificação \"Insatisfatório\".\n",
        "- Se a pontuação for maior ou igual a 70, atribua a classificação \"Regular\".\n",
        "- Se a pontuação for maior ou igual a 80, atribua a classificação \"Bom\".\n",
        "- Se a pontuação for maior ou igual a 90, atribua a classificação \"Excelente\".\n",
        "\n",
        "Escreva um programa que solicita ao usuário a pontuação e imprime a classificação correspondente."
      ]
    },
    {
      "cell_type": "code",
      "execution_count": 7,
      "id": "a7a842ae",
      "metadata": {
        "id": "a7a842ae"
      },
      "outputs": [
        {
          "name": "stdout",
          "output_type": "stream",
          "text": [
            "seu desempenho foi classificado como: Excelente.\n"
          ]
        }
      ],
      "source": [
        "## Escreva e execute seu código aqui\n",
        "#entrada de dodos \n",
        "pontos = int(input(\"qual a sua pontuação nesta missão? :\"))\n",
        "#processamento\n",
        "if pontos < 70 :\n",
        "    resultado_pontuação = \"insatisfatório\"\n",
        "elif pontos >= 70 and pontos < 80 :\n",
        "    resultado_pontuação = \"Regular\"\n",
        "elif pontos >= 80 and pontos < 90 :\n",
        "    resultado_pontuação = \"Bom\"   \n",
        "else :\n",
        "    resultado_pontuação = \"Excelente\"   \n",
        "#saida de dados\n",
        "print(f\"seu desempenho foi classificado como: {resultado_pontuação}.\")"
      ]
    },
    {
      "cell_type": "markdown",
      "id": "6cafaa50",
      "metadata": {
        "id": "6cafaa50"
      },
      "source": [
        "### Q4.\n",
        "\n",
        "Você está implementando um sistema de desconto em uma loja online. Escreva um programa em Python que calcula o desconto com base no valor total da compra e atribui diferentes níveis de desconto de acordo com as seguintes condições:\n",
        "\n",
        "- Se o valor total da compra for menor que R\\$ 50, não há desconto.\n",
        "- Se o valor total da compra for maior ou igual a R\\$ 50, atribua um desconto de 10%.\n",
        "- Se o valor total da compra for maior ou igual a R\\$ 100, atribua um desconto de 20%.\n",
        "\n",
        "\n",
        "Seguem alguns exemplos de interação com seu código no terminal. Preste atenção na formatação esperada para as saídas.\n",
        "\n",
        "```\n",
        "Digite o valor total da compra: 120\n",
        "Desconto aplicado: 20.0%\n",
        "Valor final com desconto: R$96.00\n",
        "```\n",
        "\n",
        "```\n",
        "Digite o valor total da compra: 65\n",
        "Desconto aplicado: 10.0%\n",
        "Valor final com desconto: R$58.50\n",
        "```\n",
        "\n",
        "```\n",
        "Digite o valor total da compra: 40\n",
        "Desconto aplicado: 0.0%\n",
        "Valor final com desconto: R$40.00\n",
        "```\n",
        "\n",
        "\n"
      ]
    },
    {
      "cell_type": "code",
      "execution_count": 14,
      "id": "3b1b1929",
      "metadata": {
        "id": "3b1b1929"
      },
      "outputs": [
        {
          "name": "stdout",
          "output_type": "stream",
          "text": [
            "o valor da compra foi: 12.0\n",
            "o desconto aplicado foi de: 0%\n",
            "O valor final da compra com o desconto: R$ 12.00\n"
          ]
        }
      ],
      "source": [
        "## Escreva e execute seu código aqui\n",
        "#entrada de dados\n",
        "valor = float(input(\"Digite o valor total da compra? \"))\n",
        "#processamento\n",
        "if valor <50:\n",
        "    desconto = '0%'\n",
        "    operador = 1\n",
        "elif valor >= 50 and valor < 100:\n",
        "    desconto = '10%' \n",
        "    operador = 0.9\n",
        "else:\n",
        "    desconto = '20%'\n",
        "    operador = 0.8\n",
        "#saida de dados:\n",
        "print(f\"o valor da compra foi: {valor}\")\n",
        "print(f\"o desconto aplicado foi de: {desconto}\")\n",
        "print(f\"O valor final da compra com o desconto: R$ {valor * operador:.2f}\")\n"
      ]
    },
    {
      "cell_type": "markdown",
      "id": "dc5db6d7",
      "metadata": {
        "id": "dc5db6d7"
      },
      "source": [
        "### Q5.\n",
        "\n",
        "Crie um sistema de autenticação em Python. O sistema deve funcionar da\n",
        "seguinte maneira:\n",
        "\n",
        "1. Um banco de dados fictício deve ser implementado como um dicionário,\n",
        "onde a chave é o nome do usuário e o valor é uma tupla contendo a senha e\n",
        "o nível de acesso do usuário.\n",
        "\n",
        "2. O programa deve solicitar ao usuário que insira seu usuário e senha.\n",
        "\n",
        "3. O sistema deve:\n",
        "* Verificar se o login existe no banco de dados.\n",
        "* Comparar a senha fornecida com a armazenada no banco.\n",
        "* Caso as credenciais sejam válidas, exibir uma mensagem de sucesso e o nível de acesso do usuário.\n",
        "* Caso seja inválido deverá retornar mensagem: “Erro: Usuário ou\n",
        "senha inválidos.”\n",
        "* O programa deve rodar em um laço para permitir múltiplas\n",
        "tentativas de login, mas também permitir que o usuário opte por sair\n",
        "do programa.\n",
        "\n",
        "Atributos dos 3 usuários cadastrados no sistema (usuário, senha e nível)\n",
        "\n",
        "1) admin – admin123 – Administrador\n",
        "2) usuario1 – senha123 – Usuário Comum\n",
        "3) visitante1 – guest2024 – Visitante"
      ]
    },
    {
      "cell_type": "code",
      "execution_count": 26,
      "id": "b90304eb",
      "metadata": {
        "id": "b90304eb"
      },
      "outputs": [
        {
          "name": "stdout",
          "output_type": "stream",
          "text": [
            "❌ Erro: Usuário ou senha inválidos. Tente novamente.\n",
            "\n",
            "--- Nova tentativa ---\n",
            "\n",
            "Bem-vindo usuario1, Seu nivél de acesso é: Usuário comum.\n"
          ]
        }
      ],
      "source": [
        "while True:\n",
        "    # entrada de dados\n",
        "    user = input(\"Digite o usuário: \")\n",
        "    senha = input(\"Digite a senha: \")\n",
        "\n",
        "    # processamento\n",
        "    acesso_negado = False\n",
        "\n",
        "    if user == \"admin\" and senha == \"admin123\":\n",
        "        acesso = \"Administrador\"\n",
        "    elif user == \"usuario1\" and senha == \"senha123\":\n",
        "        acesso = \"Usuário comum\"\n",
        "    elif user == \"visitante1\" and senha == \"guest2024\":\n",
        "        acesso = \"visitante\"\n",
        "    else:\n",
        "        acesso_negado = True\n",
        "\n",
        "    # saída de dados\n",
        "    if acesso_negado:\n",
        "        print(\"❌ Erro: Usuário ou senha inválidos. Tente novamente.\" )\n",
        "\n",
        "        # pergunta se deseja tentar de novo\n",
        "        opcao = input(\"Pressione [Y] para tentar novamente ou [N] para sair: \").strip().upper()\n",
        "        if opcao == \"N\":\n",
        "            print(\" Programa encerrado.\")\n",
        "            break\n",
        "        else:\n",
        "            print(\"\\n--- Nova tentativa ---\\n\")\n",
        "\n",
        "    else:\n",
        "        print(f\"Bem-vindo {user}, Seu nivél de acesso é: {acesso}.\")\n",
        "        break"
      ]
    }
  ],
  "metadata": {
    "colab": {
      "provenance": []
    },
    "kernelspec": {
      "display_name": "Python 3",
      "language": "python",
      "name": "python3"
    },
    "language_info": {
      "codemirror_mode": {
        "name": "ipython",
        "version": 3
      },
      "file_extension": ".py",
      "mimetype": "text/x-python",
      "name": "python",
      "nbconvert_exporter": "python",
      "pygments_lexer": "ipython3",
      "version": "3.13.7"
    }
  },
  "nbformat": 4,
  "nbformat_minor": 5
}
