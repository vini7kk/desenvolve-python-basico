{
 "cells": [
  {
   "cell_type": "markdown",
   "id": "29e89030",
   "metadata": {},
   "source": [
    "# Módulo 4 - Repetições\n",
    "\n",
    "## Aulas 4.2 - Comando ```for``` e 4.3 Break e Continue"
   ]
  },
  {
   "cell_type": "markdown",
   "id": "a45b42df",
   "metadata": {},
   "source": [
    "### Q1.\n",
    "\n",
    "Crie um programa em Python que utilize o comando for para imprimir os números de 10 a 1, em ordem decrescente."
   ]
  },
  {
   "cell_type": "code",
   "execution_count": 10,
   "id": "55a75b3d",
   "metadata": {},
   "outputs": [
    {
     "name": "stdout",
     "output_type": "stream",
     "text": [
      "10\n",
      "9\n",
      "8\n",
      "7\n",
      "6\n",
      "5\n",
      "4\n",
      "3\n",
      "2\n",
      "1\n"
     ]
    }
   ],
   "source": [
    "## Escreva e execute seu código aqui\n",
    "for i in range (10,0,-1): #para cada item dentro da lista com 10 itens, imprima o valor, subtraia por 1, imprima novamente até chegar em 1.\n",
    "    print(i) "
   ]
  },
  {
   "cell_type": "markdown",
   "id": "94b47c36",
   "metadata": {},
   "source": [
    "### Q2.\n",
    "\n",
    "Dado um número inteiro positivo informado pelo usuário, crie um programa em Python que utilize o comando for para calcular e exibir a soma dos números de 1 até o número informado. Ou seja, $1 + 2 + 3 + ... + n$\n",
    "\n",
    "Exemplo de interação:\n",
    "```\n",
    "Digite um número: 5\n",
    "A soma dos números de 1 a 5 é 15\n",
    "```\n"
   ]
  },
  {
   "cell_type": "code",
   "execution_count": null,
   "id": "45b71596",
   "metadata": {},
   "outputs": [
    {
     "name": "stdout",
     "output_type": "stream",
     "text": [
      "27\n"
     ]
    }
   ],
   "source": [
    "n = int(input(\"digite um número:\"))\n",
    "soma = 0\n",
    "for número in range (1, n+1):\n",
    "    soma += número\n",
    "\n",
    "print(soma)"
   ]
  },
  {
   "cell_type": "markdown",
   "id": "0411d170",
   "metadata": {},
   "source": [
    "### Q3.\n",
    "\n",
    "Escreva um programa que lê 10 valores inteiros positivos do usuário e ao final imprime a média dos valores digitados com duas casas decimais.\n",
    "\n",
    "```\n",
    "Digite 10 números positivos:\n",
    "3\n",
    "2\n",
    "12\n",
    "14\n",
    "20\n",
    "42\n",
    "19\n",
    "0\n",
    "8\n",
    "1\n",
    "A média dos valores digitados é 12.10\n",
    "```"
   ]
  },
  {
   "cell_type": "code",
   "execution_count": 24,
   "id": "3f72f358",
   "metadata": {},
   "outputs": [
    {
     "name": "stdout",
     "output_type": "stream",
     "text": [
      "A média entre os valores informados é de 13.40\n"
     ]
    }
   ],
   "source": [
    "valor = 0\n",
    "for _ in range (1, 10+1) :\n",
    "    resposta = int(input(f\"digite um número inteiro:\" ))\n",
    "    valor += resposta\n",
    "\n",
    "media = valor / 10\n",
    "print(f\"A média entre os valores informados é de {media:.2f}\")\n"
   ]
  },
  {
   "cell_type": "markdown",
   "id": "d62e27ff",
   "metadata": {},
   "source": [
    "### Q4.\n",
    "\n",
    "Você vai criar um sistema que registra os resultados dos jogos do Atlético MG ao longo de um campeonato. Seu sistema vai receber os resultados de todos os jogos do Galo, e deve calcular a pontuação do time sabendo que vitórias valem 3 pontos, empates 1 ponto e derrotas 0 pontos.\n",
    "\n",
    "Entrada: <br>\n",
    "A primeira linha de entrada é um inteiro N com a quantidade jogos do galo. Para cada jogo você deve ler 2 inteiros, o primeiro com a quantidade de gols do galo e o segundo com a quantidade de gols do time oponente. \n",
    "\n",
    "Saída: <br>\n",
    "Apresente a soma de vitórias, empates e derrotas do galo, junto com o cálculo da pontuação total.\n",
    "\n",
    "Ex:\n",
    "```\n",
    "Entrada:\n",
    "4\n",
    "2\n",
    "0\n",
    "1\n",
    "1\n",
    "0\n",
    "3\n",
    "1\n",
    "0\n",
    "\n",
    "Saída:\n",
    "Vitórias: 2\n",
    "Empates: 1\n",
    "Derrotas: 1\n",
    "Pontuação: 7\n",
    "\n",
    "```\n",
    "\n",
    "\n"
   ]
  },
  {
   "cell_type": "code",
   "execution_count": null,
   "id": "d3fdfc2a",
   "metadata": {},
   "outputs": [
    {
     "name": "stdout",
     "output_type": "stream",
     "text": [
      "o número de vitorias é 1\n",
      "o número de empates é 1\n",
      "o número de derrotas é 3\n",
      "a pontuação atual é 4 pontos\n"
     ]
    }
   ],
   "source": [
    "## Escreva e execute seu código aqui\n",
    "numero_de_empates , numero_de_derrotas ,numero_de_vitorias = 0, 0, 0\n",
    "numero_de_partidas = int(input(\"quantas partidas deseja registrar? \"))\n",
    "for jogo in range (1, numero_de_partidas+1): #para cada jogo na lista, atribua valores de:\n",
    "    atl = int(input(\"quantos gols foram marcados pelo atletico-MG?\"))\n",
    "    adv = int(input(\"quantos gols foram marcados pelo adversario\"))\n",
    "    if atl > adv:\n",
    "        numero_de_vitorias += 1\n",
    "    elif atl == adv:\n",
    "        numero_de_empates += 1\n",
    "    else :\n",
    "        numero_de_derrotas += 1\n",
    "\n",
    "pontuação = numero_de_empates + numero_de_vitorias * 3\n",
    "\n",
    "print(f\"o número de vitorias é {numero_de_vitorias}\")\n",
    "print(f\"o número de empates é {numero_de_empates}\")\n",
    "print(f\"o número de derrotas é {numero_de_derrotas}\")\n",
    "print(f\"a pontuação atual é {pontuação} pontos\" )"
   ]
  },
  {
   "cell_type": "markdown",
   "id": "fc98604d",
   "metadata": {},
   "source": [
    "### Q5.\n",
    "\n",
    "Faça um programa que lê dois inteiros N e M, e imprime na tela um campo de batalha naval. O tabuleiro deve possuir N linhas e M colunas. A primeira linha é composta por um espaço em branco e o cabeçalho das colunas, ou seja, valores de 1 a M. As N linhas seguintes iniciam com o cabeçalho da linha, ou seja, seu número, seguido de M caracteres \"/\" (barra) indicando uma possível posição jogável. \n",
    "\n",
    "```\n",
    "Entrada:\n",
    "5\n",
    "4\n",
    "\n",
    "Saída:\n",
    "  1 2 3 4 \n",
    "1 / / / / \n",
    "2 / / / / \n",
    "3 / / / / \n",
    "4 / / / / \n",
    "5 / / / / \n",
    "```\n",
    "\n",
    "Para esse exercício, precisamos lembrar que o comando print implicitamente adiciona uma quebra de linha ao final da impressão. Podemos interferir no final da impressão adicionando mais uma entrada ao print. No exemplo, finalizamos cada linha com um espaço em branco:\n",
    "```python\n",
    "print(\"Texto qualquer\", end = \" \")\n",
    "```"
   ]
  },
  {
   "cell_type": "code",
   "execution_count": 33,
   "id": "a60ef197",
   "metadata": {},
   "outputs": [
    {
     "name": "stdout",
     "output_type": "stream",
     "text": [
      "  1 2 3 4 5 \n",
      "1 / / / / / \n",
      "2 / / / / / \n",
      "3 / / / / / \n",
      "4 / / / / / \n",
      "5 / / / / / \n"
     ]
    }
   ],
   "source": [
    "## Escreva e execute seu código aqui\n",
    "N = int(input(\"digite o número de linhas: \"))\n",
    "M = int(input(\"digite o número de colunas: \"))\n",
    "# Imprime a primeira linha (cabeçalho das colunas)\n",
    "print(\" \", end=\" \")  # Espaço inicial para alinhar com o cabeçalho das linhas\n",
    "\n",
    "for coluna in range (1, M+1):\n",
    "    print( coluna, end=\" \")\n",
    "print()\n",
    "\n",
    "for linha in range (1, N+1):\n",
    "    print(linha, end=\" \")  # Cabeçalho da linha\n",
    "    for coluna in range(M):\n",
    "        print(\"/\", end=\" \")\n",
    "    print()  # Quebra de linha após cada linha do tabuleiro"
   ]
  },
  {
   "cell_type": "markdown",
   "id": "4654dc0b",
   "metadata": {},
   "source": [
    "---\n",
    "## Break e Continue"
   ]
  },
  {
   "cell_type": "markdown",
   "id": "24fe9d85",
   "metadata": {},
   "source": [
    "### Q6.\n",
    "\n",
    "Escreva um programa que lê uma quantidade indefinida de valores e informa o maior e o menor valor digitados. A leitura é encerrada quando o usuário digitar o valor 0 (zero).\n",
    "\n",
    "```\n",
    "Entrada:\n",
    "12\n",
    "-1\n",
    "29\n",
    "11\n",
    "-5\n",
    "0\n",
    "\n",
    "Saída:\n",
    "Maior: 29\n",
    "Menor: -5\n",
    "```"
   ]
  },
  {
   "cell_type": "code",
   "execution_count": null,
   "id": "ee1c466a",
   "metadata": {},
   "outputs": [
    {
     "name": "stdout",
     "output_type": "stream",
     "text": [
      "tente novamente...\n",
      "tente novamente...\n",
      "tente novamente...\n",
      "tente novamente...\n",
      "tente novamente...\n",
      "parabéns, você acertou\n"
     ]
    }
   ],
   "source": [
    "## Escreva e execute seu código aqui\n",
    "while True:\n",
    "    n =  int(input(\"adivinhe o número entre 0-10:\" ))\n",
    "    if n == 0:\n",
    "        print(\"parabéns, você acertou\")\n",
    "        break \n",
    "    else:\n",
    "        print(\"tente novamente...\")\n",
    "        "
   ]
  },
  {
   "cell_type": "markdown",
   "id": "30d486f7",
   "metadata": {},
   "source": [
    "### Q7.\n",
    "\n",
    "Escreva um programa que lê uma quantidade indefinida de valores e informa o **produto** dos valores positivos digitados. A leitura é encerrada quando o usuário digitar o valor 0 (zero).\n",
    "\n",
    "```\n",
    "Entrada:\n",
    "2\n",
    "-1\n",
    "1\n",
    "3\n",
    "-5\n",
    "0\n",
    "\n",
    "Saída:\n",
    "Produto: 6\n",
    "```"
   ]
  },
  {
   "cell_type": "code",
   "execution_count": 43,
   "id": "2f1ac324",
   "metadata": {},
   "outputs": [
    {
     "name": "stdout",
     "output_type": "stream",
     "text": [
      "A multiplicação total entre todos números inseridos é de 1064070\n"
     ]
    }
   ],
   "source": [
    "produto = 1\n",
    "while True:\n",
    "    valor = int(input(\"Insira um número (0 para sair): \")) \n",
    "    if valor != 0:\n",
    "        produto *= valor\n",
    "    else:\n",
    "        break\n",
    "\n",
    "print(f\"A multiplicação total entre todos números inseridos é de {produto}\")\n"
   ]
  },
  {
   "cell_type": "markdown",
   "id": "e932f3cf",
   "metadata": {},
   "source": [
    "### Q8.\n",
    "\n",
    "Vamos fazer uma calculadora que aceita expressões aritméticas de qualquer tamanho até que o usuário digite a palavra \"Fim\". Sua calculadora executa apenas as operações \"+\", \"-\".\n",
    "\n",
    "```\n",
    "Entrada:\n",
    "5\n",
    "+\n",
    "8\n",
    "-\n",
    "3\n",
    "+\n",
    "2\n",
    "Fim\n",
    "\n",
    "Saída:\n",
    "12\n",
    "```"
   ]
  },
  {
   "cell_type": "code",
   "execution_count": 85,
   "id": "e835d870",
   "metadata": {},
   "outputs": [
    {
     "name": "stdout",
     "output_type": "stream",
     "text": [
      "Resultado até o momento: 25.0\n",
      "Resultado até o momento: -49.0\n",
      "O resultado total é de -49.0\n"
     ]
    }
   ],
   "source": [
    "total = 0  \n",
    "\n",
    "while True:\n",
    "    n = input(\"Digite um número (ou 'Fim' para encerrar): \")\n",
    "    if n == \"Fim\" or n == \"fim\":\n",
    "        break\n",
    "    n = float(n)  # converte para número\n",
    "\n",
    "    op = input(\"Digite o operador (+ ou -): \")\n",
    "    if op == \"Fim\" or op == \"fim\":\n",
    "        break\n",
    "    if op not in [\"+\", \"-\"]:\n",
    "        print(f\"Este operador não foi reconhecido: {op}\")\n",
    "        continue  # volta ao início do loop para tentar novamente\n",
    "\n",
    "    n2 = input(\"Digite outro número: \")\n",
    "    if n2 == \"Fim\" or n2 == \"fim\":\n",
    "        break\n",
    "    n2 = float(n2)\n",
    "\n",
    "    if op == \"+\":\n",
    "        total += n + n2\n",
    "    elif op == \"-\":\n",
    "        total += n - n2\n",
    "\n",
    "    print(f\"Resultado até o momento: {total}\")\n",
    "\n",
    "print(f\"O resultado total é de {total}\")\n",
    "\n"
   ]
  }
 ],
 "metadata": {
  "kernelspec": {
   "display_name": "Python 3",
   "language": "python",
   "name": "python3"
  },
  "language_info": {
   "codemirror_mode": {
    "name": "ipython",
    "version": 3
   },
   "file_extension": ".py",
   "mimetype": "text/x-python",
   "name": "python",
   "nbconvert_exporter": "python",
   "pygments_lexer": "ipython3",
   "version": "3.13.7"
  }
 },
 "nbformat": 4,
 "nbformat_minor": 5
}
